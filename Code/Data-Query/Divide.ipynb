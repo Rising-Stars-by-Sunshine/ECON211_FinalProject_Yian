{
 "cells": [
  {
   "cell_type": "code",
   "execution_count": 1,
   "metadata": {},
   "outputs": [],
   "source": [
    "import pandas as pd\n",
    "\n",
    "def divide_csv(file_path):\n",
    "    # Read the CSV file into a pandas DataFrame\n",
    "    df = pd.read_csv(file_path)\n",
    "\n",
    "    # Calculate the middle age\n",
    "    middle_age = df['Age'].median()\n",
    "\n",
    "    # Create four new DataFrames based on conditions\n",
    "    male_below_age = df[(df['Sex'] == 'Male') & (df['Age'] < middle_age)]\n",
    "    male_above_age = df[(df['Sex'] == 'Male') & (df['Age'] >= middle_age)]\n",
    "    female_below_age = df[(df['Sex'] == 'Female') & (df['Age'] < middle_age)]\n",
    "    female_above_age = df[(df['Sex'] == 'Female') & (df['Age'] >= middle_age)]\n",
    "\n",
    "    # Save each DataFrame to a new CSV file\n",
    "    male_below_age.to_csv('D:/桌面/male_below_age.csv', index=False)\n",
    "    male_above_age.to_csv('D:/桌面/male_above_age.csv', index=False)\n",
    "    female_below_age.to_csv('D:/桌面/female_below_age.csv', index=False)\n",
    "    female_above_age.to_csv('D:/桌面/female_above_age.csv', index=False)\n",
    "\n",
    "if __name__ == \"__main__\":\n",
    "    # Replace 'your_file.csv' with the path to your CSV file\n",
    "    csv_file_path = 'D:/桌面/heart.csv'\n",
    "    divide_csv(csv_file_path)\n"
   ]
  }
 ],
 "metadata": {
  "kernelspec": {
   "display_name": "Python 3",
   "language": "python",
   "name": "python3"
  },
  "language_info": {
   "codemirror_mode": {
    "name": "ipython",
    "version": 3
   },
   "file_extension": ".py",
   "mimetype": "text/x-python",
   "name": "python",
   "nbconvert_exporter": "python",
   "pygments_lexer": "ipython3",
   "version": "3.11.4"
  }
 },
 "nbformat": 4,
 "nbformat_minor": 2
}
